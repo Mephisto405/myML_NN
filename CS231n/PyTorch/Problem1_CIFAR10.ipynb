{
 "cells": [
  {
   "cell_type": "code",
   "execution_count": 1,
   "metadata": {},
   "outputs": [],
   "source": [
    "'''Train CIFAR10 with PyTorch.'''\n",
    "from __future__ import print_function\n",
    "\n",
    "import torch\n",
    "import torch.nn as nn\n",
    "import torch.optim as optim\n",
    "import torch.nn.functional as F\n",
    "import torch.backends.cudnn as cudnn\n",
    "\n",
    "import torchvision\n",
    "import torchvision.transforms as transforms\n",
    "\n",
    "import os\n",
    "import sys"
   ]
  },
  {
   "cell_type": "code",
   "execution_count": 2,
   "metadata": {},
   "outputs": [
    {
     "name": "stdout",
     "output_type": "stream",
     "text": [
      "==> Preparing data..\n",
      "Files already downloaded and verified\n",
      "Files already downloaded and verified\n"
     ]
    }
   ],
   "source": [
    "# Data\n",
    "\n",
    "print('==> Preparing data..')\n",
    "transform_train = transforms.Compose([\n",
    "    transforms.RandomHorizontalFlip(),\n",
    "    transforms.RandomCrop(size=32, padding=4),\n",
    "    transforms.ToTensor(),\n",
    "    transforms.Normalize([0.5, 0.5, 0.5], [0.5, 0.5, 0.5])\n",
    "])\n",
    "\n",
    "transform_test = transforms.Compose([\n",
    "    transforms.ToTensor(),\n",
    "    transforms.Normalize([0.5, 0.5, 0.5], [0.5, 0.5, 0.5])\n",
    "])\n",
    "\n",
    "trainset = torchvision.datasets.CIFAR10(root='./data', train=True,\n",
    "                                        download = True, transform=transform_train)\n",
    "testset = torchvision.datasets.CIFAR10(root='./data', train=False,\n",
    "                                        download = True, transform=transform_test)\n",
    "\n",
    "trainloader = torch.utils.data.DataLoader(trainset, batch_size=128, shuffle=True, num_workers=2)\n",
    "testloader = torch.utils.data.DataLoader(testset, batch_size=100, shuffle=False, num_workers=2) \n",
    "\n",
    "classes = ('plane', 'car', 'bird', 'cat', 'deer', 'dog', 'frog', 'horse', 'ship', 'truck')"
   ]
  },
  {
   "cell_type": "code",
   "execution_count": 3,
   "metadata": {},
   "outputs": [
    {
     "name": "stdout",
     "output_type": "stream",
     "text": [
      " bird horse truck  deer\n"
     ]
    }
   ],
   "source": [
    "import matplotlib.pyplot as plt\n",
    "import numpy as np\n",
    "\n",
    "# 이미지를 보여주기 위한 함수\n",
    "\n",
    "\n",
    "def imshow(img):\n",
    "    img = img / 2 + 0.5     # unnormalize\n",
    "    npimg = img.numpy()\n",
    "    plt.imshow(np.transpose(npimg, (1, 2, 0)))\n",
    "\n",
    "\n",
    "# 학습용 이미지를 무작위로 가져오기\n",
    "dataiter = iter(trainloader)\n",
    "images, labels = dataiter.next()\n",
    "\n",
    "# 이미지 보여주기\n",
    "imshow(torchvision.utils.make_grid(images[:4]))\n",
    "# 정답(label) 출력\n",
    "print(' '.join('%5s' % classes[labels[:4][j]] for j in range(4)))"
   ]
  },
  {
   "cell_type": "code",
   "execution_count": 4,
   "metadata": {},
   "outputs": [],
   "source": [
    "class LeNet(nn.Module):\n",
    "    # http://yann.lecun.com/exdb/lenet/\n",
    "    def __init__(self):\n",
    "        super(LeNet, self).__init__()\n",
    "        # 6 1x5x5 convolution kernels\n",
    "        self.conv_layer = nn.Sequential(\n",
    "            nn.Conv2d(3, 16, 3, padding=1),\n",
    "            nn.BatchNorm2d(16),\n",
    "            nn.ReLU(inplace=True),\n",
    "            nn.Conv2d(16, 64, 3, padding=1),\n",
    "            nn.BatchNorm2d(64),\n",
    "            nn.ReLU(inplace=True),\n",
    "            nn.MaxPool2d(2, 2),\n",
    "            \n",
    "            nn.Conv2d(64, 128, 3, padding=1),\n",
    "            nn.BatchNorm2d(128),\n",
    "            nn.ReLU(inplace=True),\n",
    "            nn.Conv2d(128, 256, 3, padding=1),\n",
    "            nn.BatchNorm2d(256),\n",
    "            nn.ReLU(inplace=True),\n",
    "            nn.MaxPool2d(2, 2),\n",
    "            \n",
    "            nn.Conv2d(256, 256, 3, padding=1),\n",
    "            nn.BatchNorm2d(256),\n",
    "            nn.ReLU(inplace=True),\n",
    "            nn.Conv2d(256, 256, 3, padding=1),\n",
    "            nn.BatchNorm2d(256),\n",
    "            nn.ReLU(inplace=True),\n",
    "            nn.MaxPool2d(2, 2)\n",
    "        )\n",
    "        \n",
    "        self.fc_layer = nn.Sequential(\n",
    "            nn.Linear(256 * 4 * 4, 1024),\n",
    "            nn.BatchNorm1d(1024),\n",
    "            nn.Linear(1024, 84),\n",
    "            nn.BatchNorm1d(84),\n",
    "            nn.Linear(84, 10)\n",
    "        )\n",
    "        \n",
    "    def forward(self, x):\n",
    "        \n",
    "        x = self.conv_layer(x)\n",
    "        \n",
    "        # convert (N, C, W, H) to (N, CxWxH)\n",
    "        x = x.view(x.size(0), -1)\n",
    "        \n",
    "        x = self.fc_layer(x)\n",
    "        \n",
    "        return x"
   ]
  },
  {
   "cell_type": "code",
   "execution_count": 5,
   "metadata": {},
   "outputs": [
    {
     "name": "stderr",
     "output_type": "stream",
     "text": [
      "WARNING:root:Setting up a new session...\n"
     ]
    }
   ],
   "source": [
    "import visdom\n",
    "import time\n",
    "\n",
    "vis = visdom.Visdom()\n",
    "\n",
    "def train(net, criterion, optimizer, lr, num_epoch):\n",
    "    iters = 0\n",
    "    plot_accu = vis.line(Y=torch.zeros(1), X=torch.zeros(1),\n",
    "                            opts=dict(title='Accuracy', showlegend=True))\n",
    "    time.sleep(0.1)\n",
    "    plot_loss = vis.line(Y=torch.zeros(1), X=torch.zeros(1),\n",
    "                            opts=dict(title='Loss', showlegend=True))\n",
    "    #lr_decay_point = [2000, ]\n",
    "    \n",
    "    train_batch_size = len(list(trainloader))\n",
    "    test_batch_size = len(list(testloader))\n",
    "    \n",
    "    for epoch in range(num_epoch):\n",
    "        avg_train_loss = 0.0\n",
    "        correct = 0.0\n",
    "        total = 0.0\n",
    "        if epoch == 7 or epoch == 14:\n",
    "            lr *= 0.1\n",
    "            optimizer = optim.SGD(net.parameters(), lr=lr, momentum=0.9, weight_decay=5e-4)\n",
    "        \n",
    "        for batch_index, (inputs, labels) in enumerate(trainloader):\n",
    "            inputs, labels = inputs.cuda(), labels.cuda()\n",
    "            optimizer.zero_grad()\n",
    "            outputs = net(inputs)\n",
    "            loss = criterion(outputs, labels)\n",
    "            loss.backward()\n",
    "            optimizer.step()\n",
    "\n",
    "            avg_train_loss += loss.item()\n",
    "            _, predicted = outputs.max(1)\n",
    "            correct += (predicted == labels).sum().item()\n",
    "            total += labels.size(0)\n",
    "            iters = iters + 1\n",
    "            \n",
    "            vis.line(Y=torch.tensor([loss.item()]), X=torch.tensor([iters]), \n",
    "                     win=plot_loss, update='append', name='train')\n",
    "        \n",
    "        vis.line(Y=torch.tensor([100.*correct/total]), X=torch.tensor([iters]), \n",
    "                     win=plot_accu, update='append', name='train')\n",
    "        sys.stdout.write('Epoch %d | Loss %.5f | Training accuracy %.3f \\n' \n",
    "                                 % (epoch + 1, avg_train_loss / train_batch_size, 100.*correct/total))\n",
    "        \n",
    "        loss = 0.0\n",
    "        correct = 0.0\n",
    "        total = 0.0\n",
    "        \n",
    "        for batch_index, (inputs, labels) in enumerate(testloader):\n",
    "            inputs, labels = inputs.cuda(), labels.cuda()\n",
    "            optimizer.zero_grad()\n",
    "            outputs = net(inputs)\n",
    "            loss = criterion(outputs, labels)\n",
    "            \n",
    "            loss += loss.item()\n",
    "            _, predicted = outputs.max(1)\n",
    "            correct += (predicted == labels).sum().item()\n",
    "            total += labels.size(0)\n",
    "        \n",
    "        vis.line(Y=torch.tensor([loss]), X=torch.tensor([iters]),\n",
    "                 win=plot_loss, update='append', name='test')\n",
    "        vis.line(Y=torch.tensor([100.*correct/total]), X=torch.tensor([iters]), \n",
    "                     win=plot_accu, update='append', name='test')\n",
    "        sys.stdout.write('[[Test]] Epoch %d | Loss %.5f | Test accuracy %.3f \\n' \n",
    "                                 % (epoch + 1, loss, 100.*correct/total))\n",
    "        sys.stdout.flush()"
   ]
  },
  {
   "cell_type": "code",
   "execution_count": 6,
   "metadata": {},
   "outputs": [
    {
     "name": "stdout",
     "output_type": "stream",
     "text": [
      "learning rate: 0.100000\n",
      "Epoch 1 | Loss 1.34629 | Training accuracy 50.854 \n",
      "[[Test]] Epoch 1 | Loss 2.09258 | Test accuracy 63.970 \n",
      "Epoch 2 | Loss 0.91153 | Training accuracy 67.630 \n",
      "[[Test]] Epoch 2 | Loss 1.53014 | Test accuracy 71.530 \n",
      "Epoch 3 | Loss 0.75538 | Training accuracy 73.618 \n",
      "[[Test]] Epoch 3 | Loss 1.56711 | Test accuracy 75.460 \n",
      "Epoch 4 | Loss 0.67130 | Training accuracy 76.660 \n",
      "[[Test]] Epoch 4 | Loss 1.62935 | Test accuracy 75.550 \n",
      "Epoch 5 | Loss 0.62225 | Training accuracy 78.474 \n",
      "[[Test]] Epoch 5 | Loss 1.20271 | Test accuracy 77.290 \n",
      "Epoch 6 | Loss 0.58110 | Training accuracy 80.094 \n",
      "[[Test]] Epoch 6 | Loss 1.41700 | Test accuracy 78.510 \n",
      "Epoch 7 | Loss 0.54578 | Training accuracy 81.338 \n",
      "[[Test]] Epoch 7 | Loss 1.41559 | Test accuracy 78.520 \n",
      "Epoch 8 | Loss 0.38160 | Training accuracy 87.084 \n",
      "[[Test]] Epoch 8 | Loss 0.94722 | Test accuracy 84.860 \n",
      "Epoch 9 | Loss 0.32504 | Training accuracy 88.838 \n",
      "[[Test]] Epoch 9 | Loss 0.85055 | Test accuracy 85.840 \n",
      "Epoch 10 | Loss 0.30048 | Training accuracy 89.772 \n",
      "[[Test]] Epoch 10 | Loss 0.88814 | Test accuracy 85.610 \n",
      "Epoch 11 | Loss 0.28096 | Training accuracy 90.228 \n",
      "[[Test]] Epoch 11 | Loss 0.88862 | Test accuracy 86.100 \n",
      "Epoch 12 | Loss 0.26592 | Training accuracy 90.854 \n",
      "[[Test]] Epoch 12 | Loss 0.82534 | Test accuracy 86.440 \n",
      "Epoch 13 | Loss 0.24767 | Training accuracy 91.564 \n",
      "[[Test]] Epoch 13 | Loss 0.72813 | Test accuracy 86.580 \n",
      "Epoch 14 | Loss 0.23395 | Training accuracy 91.886 \n",
      "[[Test]] Epoch 14 | Loss 0.79075 | Test accuracy 86.070 \n",
      "Epoch 15 | Loss 0.19628 | Training accuracy 93.296 \n",
      "[[Test]] Epoch 15 | Loss 0.76983 | Test accuracy 87.100 \n",
      "Epoch 16 | Loss 0.18443 | Training accuracy 93.848 \n",
      "[[Test]] Epoch 16 | Loss 0.74512 | Test accuracy 87.030 \n",
      "Epoch 17 | Loss 0.17822 | Training accuracy 93.960 \n",
      "[[Test]] Epoch 17 | Loss 0.76343 | Test accuracy 87.230 \n",
      "Epoch 18 | Loss 0.17123 | Training accuracy 94.334 \n",
      "[[Test]] Epoch 18 | Loss 0.75357 | Test accuracy 87.110 \n",
      "Epoch 19 | Loss 0.17208 | Training accuracy 94.122 \n",
      "[[Test]] Epoch 19 | Loss 0.77058 | Test accuracy 87.040 \n",
      "Epoch 20 | Loss 0.16620 | Training accuracy 94.246 \n",
      "[[Test]] Epoch 20 | Loss 0.75961 | Test accuracy 87.260 \n"
     ]
    }
   ],
   "source": [
    "learning_rate = [0.1]\n",
    "\n",
    "for lr in learning_rate:\n",
    "    print(\"learning rate: %f\" % (lr))\n",
    "    T_max = 20\n",
    "    net = LeNet().cuda()\n",
    "    net = nn.DataParallel(net, device_ids=range(torch.cuda.device_count()))\n",
    "    torch.backends.cudnn.benchmark = True\n",
    "    criterion = nn.CrossEntropyLoss()\n",
    "    optimizer = optim.SGD(net.parameters(), lr=lr, momentum=0.9, weight_decay=5e-4)\n",
    "    train(net, criterion, optimizer, lr, T_max)"
   ]
  },
  {
   "cell_type": "code",
   "execution_count": 7,
   "metadata": {},
   "outputs": [
    {
     "name": "stdout",
     "output_type": "stream",
     "text": [
      "20\n"
     ]
    }
   ],
   "source": [
    "plot_accu = vis.line(Y=torch.zeros(1), X=torch.zeros(1),\n",
    "                            opts=dict(title='Accuracy', showlegend=True))\n",
    "print(20)\n",
    "plot_loss = vis.line(Y=torch.zeros(1), X=torch.zeros(1),\n",
    "                            opts=dict(title='Loss', showlegend=True))"
   ]
  },
  {
   "cell_type": "code",
   "execution_count": 8,
   "metadata": {},
   "outputs": [],
   "source": [
    "# No BN 49%\n",
    "# BN 60%\n",
    "# Larger (not deeper) conv net 81%\n",
    "# Deeper conv net 83%\n",
    "# Deeper & proper learning rate sheduling (decaying) 88%"
   ]
  }
 ],
 "metadata": {
  "kernelspec": {
   "display_name": "Python 3",
   "language": "python",
   "name": "python3"
  },
  "language_info": {
   "codemirror_mode": {
    "name": "ipython",
    "version": 3
   },
   "file_extension": ".py",
   "mimetype": "text/x-python",
   "name": "python",
   "nbconvert_exporter": "python",
   "pygments_lexer": "ipython3",
   "version": "3.7.3"
  }
 },
 "nbformat": 4,
 "nbformat_minor": 2
}
