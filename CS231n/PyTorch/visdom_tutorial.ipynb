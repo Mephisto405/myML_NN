{
 "cells": [
  {
   "cell_type": "code",
   "execution_count": 1,
   "metadata": {},
   "outputs": [],
   "source": [
    "import torch\n",
    "import torch.nn as nn\n",
    "import torch.optim as optim\n",
    "import torch.nn.functional as F\n",
    "import torch.backends.cudnn as cudnn\n",
    "\n",
    "import torchvision\n",
    "import torchvision.transforms as transforms\n",
    "\n",
    "import visdom\n",
    "\n",
    "import numpy as np"
   ]
  },
  {
   "cell_type": "code",
   "execution_count": 2,
   "metadata": {},
   "outputs": [],
   "source": [
    "transform = transforms.Compose([\n",
    "    transforms.ToTensor(),\n",
    "    transforms.Normalize([0.5], [0.5])\n",
    "])\n",
    "\n",
    "trainset = torchvision.datasets.MNIST(root='./data', train=True,\n",
    "                                     download=True, transform=transform)\n",
    "trainloader = torch.utils.data.DataLoader(trainset, batch_size=8, \n",
    "                                          shuffle=True, num_workers=2)"
   ]
  },
  {
   "cell_type": "code",
   "execution_count": 3,
   "metadata": {},
   "outputs": [
    {
     "name": "stderr",
     "output_type": "stream",
     "text": [
      "WARNING:root:Setting up a new session...\n"
     ]
    }
   ],
   "source": [
    "vis = visdom.Visdom()\n",
    "for i, data in enumerate(trainloader):\n",
    "    img, label = data\n",
    "    vis.images(img)\n",
    "    break"
   ]
  },
  {
   "cell_type": "code",
   "execution_count": 8,
   "metadata": {},
   "outputs": [],
   "source": [
    "plot = vis.line(Y=torch.randn(10,2), \n",
    "                X=torch.stack((torch.arange(0,10), torch.arange(0,10)),1),\n",
    "                opts=dict(title='hello', legend=['1st', '2nd'], showlegend=True))\n",
    "for i in range(10,500):\n",
    "    vis.line(Y=i*torch.randn(1,2),\n",
    "            X=torch.stack((torch.arange(i,i+1), torch.arange(i,i+1)),1),\n",
    "            win=plot,\n",
    "            update='append')"
   ]
  },
  {
   "cell_type": "code",
   "execution_count": 5,
   "metadata": {},
   "outputs": [
    {
     "data": {
      "text/plain": [
       "tensor([[ 1.3184, -0.6993],\n",
       "        [ 0.6544,  0.6234],\n",
       "        [ 2.1669, -0.2158],\n",
       "        [ 0.5572, -1.2751],\n",
       "        [-0.5437, -0.5308],\n",
       "        [ 2.2186, -0.8156],\n",
       "        [ 0.4474, -1.9258],\n",
       "        [-0.5464,  0.3658],\n",
       "        [ 0.0082,  1.8715],\n",
       "        [ 1.1844, -1.9131]])"
      ]
     },
     "execution_count": 5,
     "metadata": {},
     "output_type": "execute_result"
    }
   ],
   "source": [
    "torch.randn(10,2)"
   ]
  },
  {
   "cell_type": "code",
   "execution_count": 17,
   "metadata": {},
   "outputs": [],
   "source": [
    "plot_train_loss = vis.line(Y=torch.zeros(1), X=torch.zeros(1),\n",
    "                            opts=dict(title='Training Loss'))\n",
    "plot_train_acc = vis.line(Y=torch.zeros(1), X=torch.zeros(1),\n",
    "                            opts=dict(title='Training Accuracy'))\n",
    "plot_test_loss = vis.line(Y=torch.zeros(1), X=torch.zeros(1),\n",
    "                            opts=dict(title='Test Loss'))\n",
    "plot_test_acc = vis.line(Y=torch.zeros(1), X=torch.zeros(1),\n",
    "                            opts=dict(title='Test Accuracy'))\n",
    "for i in range(1,500):\n",
    "    vis.line(Y=i*torch.randn(1), X=torch.tensor([i]),\n",
    "            win=plot_train_loss, update='append')\n",
    "    vis.line(Y=i*torch.randn(1), X=torch.tensor([i]),\n",
    "            win=plot_train_acc, update='append')\n",
    "    vis.line(Y=i*torch.randn(1), X=torch.tensor([i]),\n",
    "            win=plot_test_loss, update='append')\n",
    "    vis.line(Y=i*torch.randn(1), X=torch.tensor([i]),\n",
    "            win=plot_test_acc, update='append')"
   ]
  },
  {
   "cell_type": "code",
   "execution_count": 15,
   "metadata": {},
   "outputs": [
    {
     "data": {
      "text/plain": [
       "tensor([-0.1312])"
      ]
     },
     "execution_count": 15,
     "metadata": {},
     "output_type": "execute_result"
    }
   ],
   "source": [
    "torch.randn(1)"
   ]
  },
  {
   "cell_type": "code",
   "execution_count": null,
   "metadata": {},
   "outputs": [],
   "source": []
  }
 ],
 "metadata": {
  "kernelspec": {
   "display_name": "Python 3",
   "language": "python",
   "name": "python3"
  },
  "language_info": {
   "codemirror_mode": {
    "name": "ipython",
    "version": 3
   },
   "file_extension": ".py",
   "mimetype": "text/x-python",
   "name": "python",
   "nbconvert_exporter": "python",
   "pygments_lexer": "ipython3",
   "version": "3.7.3"
  }
 },
 "nbformat": 4,
 "nbformat_minor": 2
}
